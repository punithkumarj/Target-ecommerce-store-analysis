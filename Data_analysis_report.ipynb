{
 "cells": [
  {
   "cell_type": "code",
   "execution_count": 1,
   "id": "0f84a379-e433-41e9-a8f5-e6f6a10a1235",
   "metadata": {},
   "outputs": [],
   "source": [
    "import pandas as pd\n",
    "import numpy as np\n",
    "import seaborn as sns\n",
    "import matplotlib.pyplot as plt\n",
    "\n",
    "import mysql.connector as connector\n",
    "%matplotlib inline"
   ]
  },
  {
   "cell_type": "code",
   "execution_count": 2,
   "id": "2ae70e01-820f-4d0b-a03a-2aa1416ec3cf",
   "metadata": {},
   "outputs": [],
   "source": [
    "db = connector.connect(\n",
    "    host = 'localhost',\n",
    "    username = 'root',\n",
    "    password = 'admin@2024',\n",
    "    database = 'ecommerce'\n",
    ")"
   ]
  },
  {
   "cell_type": "code",
   "execution_count": 3,
   "id": "a44a06de-b41f-4567-a7f2-e2574f700dad",
   "metadata": {},
   "outputs": [],
   "source": [
    "cur = db.cursor()"
   ]
  },
  {
   "cell_type": "markdown",
   "id": "d26c5f3e-e607-4ec1-a887-279eac443f53",
   "metadata": {},
   "source": [
    "### 1. List all unique cities where customers are located."
   ]
  },
  {
   "cell_type": "code",
   "execution_count": 4,
   "id": "5c615e63-8450-42c3-aa06-d8320a9d3816",
   "metadata": {},
   "outputs": [
    {
     "data": {
      "text/html": [
       "<div>\n",
       "<style scoped>\n",
       "    .dataframe tbody tr th:only-of-type {\n",
       "        vertical-align: middle;\n",
       "    }\n",
       "\n",
       "    .dataframe tbody tr th {\n",
       "        vertical-align: top;\n",
       "    }\n",
       "\n",
       "    .dataframe thead th {\n",
       "        text-align: right;\n",
       "    }\n",
       "</style>\n",
       "<table border=\"1\" class=\"dataframe\">\n",
       "  <thead>\n",
       "    <tr style=\"text-align: right;\">\n",
       "      <th></th>\n",
       "      <th>0</th>\n",
       "    </tr>\n",
       "  </thead>\n",
       "  <tbody>\n",
       "    <tr>\n",
       "      <th>0</th>\n",
       "      <td>franca</td>\n",
       "    </tr>\n",
       "    <tr>\n",
       "      <th>1</th>\n",
       "      <td>sao bernardo do campo</td>\n",
       "    </tr>\n",
       "    <tr>\n",
       "      <th>2</th>\n",
       "      <td>sao paulo</td>\n",
       "    </tr>\n",
       "    <tr>\n",
       "      <th>3</th>\n",
       "      <td>mogi das cruzes</td>\n",
       "    </tr>\n",
       "    <tr>\n",
       "      <th>4</th>\n",
       "      <td>campinas</td>\n",
       "    </tr>\n",
       "  </tbody>\n",
       "</table>\n",
       "</div>"
      ],
      "text/plain": [
       "                       0\n",
       "0                 franca\n",
       "1  sao bernardo do campo\n",
       "2              sao paulo\n",
       "3        mogi das cruzes\n",
       "4               campinas"
      ]
     },
     "execution_count": 4,
     "metadata": {},
     "output_type": "execute_result"
    }
   ],
   "source": [
    "query = '''select distinct customer_city from customers'''\n",
    "cur.execute(query)\n",
    "data = cur.fetchall()\n",
    "question1 = pd.DataFrame(data)\n",
    "question1.head()"
   ]
  },
  {
   "cell_type": "markdown",
   "id": "c6c3b7ae-6e26-4b64-b866-2672c20eb8b4",
   "metadata": {},
   "source": [
    "### 2. Count the number of orders placed in 2017."
   ]
  },
  {
   "cell_type": "code",
   "execution_count": 5,
   "id": "42f55498-72b8-4efb-b5a0-0c070ef61971",
   "metadata": {},
   "outputs": [
    {
     "name": "stdout",
     "output_type": "stream",
     "text": [
      "the number of orders placed in 2017 is  [(135303,)]\n"
     ]
    }
   ],
   "source": [
    "query = '''select count(order_id) from orders where year(order_purchase_timestamp) = 2017'''\n",
    "cur.execute(query)\n",
    "data = cur.fetchall()\n",
    "print('the number of orders placed in 2017 is ', data)"
   ]
  },
  {
   "cell_type": "markdown",
   "id": "80596f18-db06-4f41-93c6-282d58d2756d",
   "metadata": {},
   "source": [
    "### 3. Find the total sales per category."
   ]
  },
  {
   "cell_type": "code",
   "execution_count": 6,
   "id": "7d6cd201-5ae0-4dd0-a76b-b6158f82898e",
   "metadata": {},
   "outputs": [
    {
     "data": {
      "text/html": [
       "<div>\n",
       "<style scoped>\n",
       "    .dataframe tbody tr th:only-of-type {\n",
       "        vertical-align: middle;\n",
       "    }\n",
       "\n",
       "    .dataframe tbody tr th {\n",
       "        vertical-align: top;\n",
       "    }\n",
       "\n",
       "    .dataframe thead th {\n",
       "        text-align: right;\n",
       "    }\n",
       "</style>\n",
       "<table border=\"1\" class=\"dataframe\">\n",
       "  <thead>\n",
       "    <tr style=\"text-align: right;\">\n",
       "      <th></th>\n",
       "      <th>Product_catergory</th>\n",
       "      <th>Sales</th>\n",
       "    </tr>\n",
       "  </thead>\n",
       "  <tbody>\n",
       "    <tr>\n",
       "      <th>0</th>\n",
       "      <td>PERFUMERY</td>\n",
       "      <td>1013477.32</td>\n",
       "    </tr>\n",
       "    <tr>\n",
       "      <th>1</th>\n",
       "      <td>FURNITURE DECORATION</td>\n",
       "      <td>2860352.78</td>\n",
       "    </tr>\n",
       "    <tr>\n",
       "      <th>2</th>\n",
       "      <td>TELEPHONY</td>\n",
       "      <td>973764.10</td>\n",
       "    </tr>\n",
       "    <tr>\n",
       "      <th>3</th>\n",
       "      <td>BED TABLE BATH</td>\n",
       "      <td>3425107.34</td>\n",
       "    </tr>\n",
       "    <tr>\n",
       "      <th>4</th>\n",
       "      <td>AUTOMOTIVE</td>\n",
       "      <td>1704588.66</td>\n",
       "    </tr>\n",
       "  </tbody>\n",
       "</table>\n",
       "</div>"
      ],
      "text/plain": [
       "      Product_catergory       Sales\n",
       "0             PERFUMERY  1013477.32\n",
       "1  FURNITURE DECORATION  2860352.78\n",
       "2             TELEPHONY   973764.10\n",
       "3        BED TABLE BATH  3425107.34\n",
       "4            AUTOMOTIVE  1704588.66"
      ]
     },
     "execution_count": 6,
     "metadata": {},
     "output_type": "execute_result"
    }
   ],
   "source": [
    "query = '''select upper(p.product_category), round(sum(pay.payment_value), 2)\n",
    "from \n",
    "ecommerce.products p\n",
    "inner join ecommerce.order_items oi\n",
    "on \n",
    "p.product_id = oi.product_id\n",
    "inner join \n",
    "ecommerce.payments pay\n",
    "on pay.order_id = oi.order_id\n",
    "group by p.product_category;'''\n",
    "cur.execute(query)\n",
    "data = cur.fetchall()\n",
    "question3 = pd.DataFrame(data)\n",
    "question3.columns = ['Product_catergory', 'Sales']\n",
    "question3.head()"
   ]
  },
  {
   "cell_type": "markdown",
   "id": "c4eca489-5c49-47b5-8887-d62f329eb658",
   "metadata": {},
   "source": [
    "### 4. Calculate the percentage of orders that were paid in installments."
   ]
  },
  {
   "cell_type": "code",
   "execution_count": 7,
   "id": "618584d2-b2e1-4d75-9e0f-1a17181b8c40",
   "metadata": {},
   "outputs": [
    {
     "name": "stdout",
     "output_type": "stream",
     "text": [
      "[(Decimal('99.9981'),)]\n"
     ]
    }
   ],
   "source": [
    "query = '''select \n",
    "(count(order_id) / (select count(*) from ecommerce.payments))*100 as Percentage \n",
    "from \n",
    "ecommerce.payments \n",
    "where \n",
    "payment_installments >= 1;'''\n",
    "cur.execute(query)\n",
    "question4 = cur.fetchall()\n",
    "print(question4)"
   ]
  },
  {
   "cell_type": "markdown",
   "id": "c326824c-e470-4712-96c1-ababa4200b7f",
   "metadata": {},
   "source": [
    "### 1. Calculate the number of orders per month in 2018."
   ]
  },
  {
   "cell_type": "code",
   "execution_count": 8,
   "id": "e132fbe7-b62d-4f31-9177-ac9d57f89d44",
   "metadata": {},
   "outputs": [
    {
     "data": {
      "image/png": "[encoded data removed]",
      "text/plain": [
       "<Figure size 400x300 with 1 Axes>"
      ]
     },
     "metadata": {},
     "output_type": "display_data"
    }
   ],
   "source": [
    "query = '''\n",
    "select monthname(order_purchase_timestamp) as months, count(order_id)\n",
    "from\n",
    "ecommerce.orders\n",
    "where year(order_purchase_timestamp) = 2018\n",
    "group by monthname(order_purchase_timestamp); \n",
    "'''\n",
    "cur.execute(query)\n",
    "question5 = pd.DataFrame(cur.fetchall(), columns=['Month', 'Total_purchases'])\n",
    "month_order = ['January', 'February', 'March', 'April', 'May', 'June', 'July',\n",
    "               'August', 'September', 'October', 'November', 'December']\n",
    "plt.figure(figsize = (4,3))\n",
    "ax=sns.barplot(x = question5['Month'], y=question5['Total_purchases'],data = question5,  order=month_order)\n",
    "ax.axhline(question5['Total_purchases'].mean(), ls = 'dashed', color = 'red', label ='mean order count')\n",
    "ax.axhline(question5['Total_purchases'].median(), ls = 'dashed', color = 'yellow', label ='median order count')\n",
    "ax.bar_label(ax.containers[0], fontsize=6)\n",
    "plt.xticks(horizontalalignment = 'right', rotation = 45)\n",
    "plt.title('Monthly order count of 2018')\n",
    "plt.show()"
   ]
  },
  {
   "cell_type": "markdown",
   "id": "756f975b-7b60-4f45-adba-979a419bf29d",
   "metadata": {},
   "source": [
    "### 2. Find the average number of products per order, grouped by customer city."
   ]
  },
  {
   "cell_type": "code",
   "execution_count": 9,
   "id": "11964f6f-3e4d-43ae-ba63-19dffd464e04",
   "metadata": {},
   "outputs": [],
   "source": [
    "query = '''\n",
    "with cte as \n",
    "(select oi.order_id, o.customer_id, count(oi.order_id) as order_count\n",
    "from \n",
    "order_items oi inner join orders o\n",
    "on oi.order_id = o.order_id\n",
    "group by oi.order_id, o.customer_id)\n",
    "\n",
    "select distinct(c.customer_city), round(avg(ct.order_count), 2) as order_count\n",
    "from customers c\n",
    "inner join\n",
    "cte ct\n",
    "on c.customer_id = ct.customer_id\n",
    "group by c.customer_city\n",
    "order by order_count desc;\n",
    "'''\n",
    "cur.execute(query)\n",
    "data = cur.fetchall()\n",
    "question6 = pd.DataFrame(data, columns=['customer_city', 'items_per_order'])"
   ]
  },
  {
   "cell_type": "markdown",
   "id": "bb971d70-7e37-42c7-aab9-0bd1a7e6bd79",
   "metadata": {},
   "source": [
    "### 3. Calculate the percentage of total revenue contributed by each product category."
   ]
  },
  {
   "cell_type": "code",
   "execution_count": 10,
   "id": "cd8fc520-bd7f-4dd2-abf9-745147d07863",
   "metadata": {},
   "outputs": [
    {
     "data": {
      "text/html": [
       "<div>\n",
       "<style scoped>\n",
       "    .dataframe tbody tr th:only-of-type {\n",
       "        vertical-align: middle;\n",
       "    }\n",
       "\n",
       "    .dataframe tbody tr th {\n",
       "        vertical-align: top;\n",
       "    }\n",
       "\n",
       "    .dataframe thead th {\n",
       "        text-align: right;\n",
       "    }\n",
       "</style>\n",
       "<table border=\"1\" class=\"dataframe\">\n",
       "  <thead>\n",
       "    <tr style=\"text-align: right;\">\n",
       "      <th></th>\n",
       "      <th>Product_Category</th>\n",
       "      <th>Percentage_contribution</th>\n",
       "    </tr>\n",
       "  </thead>\n",
       "  <tbody>\n",
       "    <tr>\n",
       "      <th>0</th>\n",
       "      <td>bed table bath</td>\n",
       "      <td>21.40</td>\n",
       "    </tr>\n",
       "    <tr>\n",
       "      <th>1</th>\n",
       "      <td>HEALTH BEAUTY</td>\n",
       "      <td>20.71</td>\n",
       "    </tr>\n",
       "    <tr>\n",
       "      <th>2</th>\n",
       "      <td>computer accessories</td>\n",
       "      <td>19.81</td>\n",
       "    </tr>\n",
       "    <tr>\n",
       "      <th>3</th>\n",
       "      <td>Furniture Decoration</td>\n",
       "      <td>17.87</td>\n",
       "    </tr>\n",
       "    <tr>\n",
       "      <th>4</th>\n",
       "      <td>Watches present</td>\n",
       "      <td>17.86</td>\n",
       "    </tr>\n",
       "  </tbody>\n",
       "</table>\n",
       "</div>"
      ],
      "text/plain": [
       "       Product_Category  Percentage_contribution\n",
       "0        bed table bath                    21.40\n",
       "1         HEALTH BEAUTY                    20.71\n",
       "2  computer accessories                    19.81\n",
       "3  Furniture Decoration                    17.87\n",
       "4       Watches present                    17.86"
      ]
     },
     "execution_count": 10,
     "metadata": {},
     "output_type": "execute_result"
    }
   ],
   "source": [
    "query = '''select p.product_category, \n",
    "round((sum(pay.payment_value)/(select sum(payment_value) from payments))*100, 2)\n",
    "as percentage_sum\n",
    "from products p\n",
    "inner join \n",
    "order_items oi\n",
    "on p.product_id = oi.product_id\n",
    "inner join\n",
    "payments pay\n",
    "on pay.order_id = oi.order_id\n",
    "group by p.product_category\n",
    "order by percentage_sum desc;'''\n",
    "cur.execute(query)\n",
    "question7 = pd.DataFrame(cur.fetchall(), columns = ['Product_Category', 'Percentage_contribution'])\n",
    "question7.head()"
   ]
  },
  {
   "cell_type": "markdown",
   "id": "81faa582-2e1c-485e-8199-a7a8c893c726",
   "metadata": {},
   "source": [
    "### 4. Identify the correlation between product price and the number of times a product has been purchased.\n"
   ]
  },
  {
   "cell_type": "code",
   "execution_count": 11,
   "id": "9d73134d-085d-484d-bff4-a098dce18c12",
   "metadata": {},
   "outputs": [
    {
     "name": "stdout",
     "output_type": "stream",
     "text": [
      "the correlation index =  -0.10631514167157562\n"
     ]
    }
   ],
   "source": [
    "query = '''\n",
    "select p.product_category, round(avg(oi.price), 2), count(oi.product_id)\n",
    "from \n",
    "order_items oi\n",
    "inner join \n",
    "products p\n",
    "on \n",
    "p.product_id = oi.product_id\n",
    "group by p.product_category;\n",
    "'''\n",
    "cur.execute(query)\n",
    "question8 = pd.DataFrame(cur.fetchall(), columns=['product_category', 'Average_price', 'Count'])\n",
    "corr_index = np.corrcoef(question8['Average_price'], question8['Count'])[0][1]\n",
    "print('the correlation index = ', corr_index)"
   ]
  },
  {
   "cell_type": "markdown",
   "id": "20b4ef4d-7750-422c-8aa1-62e05b55fcf3",
   "metadata": {},
   "source": [
    "### 5. Calculate the total revenue generated by each seller, and rank them by revenue."
   ]
  },
  {
   "cell_type": "code",
   "execution_count": 12,
   "id": "ff078dab-e7a8-4ce0-9841-700cd2495400",
   "metadata": {},
   "outputs": [
    {
     "data": {
      "image/png": "[encoded data removed]",
      "text/plain": [
       "<Figure size 400x300 with 1 Axes>"
      ]
     },
     "metadata": {},
     "output_type": "display_data"
    }
   ],
   "source": [
    "query = '''\n",
    "select *, dense_rank() over(order by revenue desc ) as 'rank' from\n",
    "(select oi.seller_id, sum(p.payment_value) as revenue\n",
    "from \n",
    "order_items oi\n",
    "inner join\n",
    "payments p\n",
    "on oi.order_id = p.order_id\n",
    "group by oi.seller_id) as derived_table;\n",
    "'''\n",
    "cur.execute(query)\n",
    "data = cur.fetchall()\n",
    "question10 = pd.DataFrame(data, columns = [\"seller_id\", \"revenue\", \"rank\"])\n",
    "df = question10.head()\n",
    "plt.figure(figsize=[4,3])\n",
    "sns.barplot(x = \"seller_id\", y = \"revenue\", data = df)\n",
    "plt.title('Sellers with 5 highest revenue')\n",
    "plt.xticks(rotation = 90)\n",
    "plt.show()"
   ]
  },
  {
   "cell_type": "markdown",
   "id": "1a410f0e-c430-448a-bc40-30bf6fc6517a",
   "metadata": {},
   "source": [
    "### 1. Calculate the moving average of order values for each customer over their order history."
   ]
  },
  {
   "cell_type": "code",
   "execution_count": 13,
   "id": "7b574829-a321-43ce-925f-d02370f3b8cc",
   "metadata": {},
   "outputs": [
    {
     "name": "stdout",
     "output_type": "stream",
     "text": [
      "CPU times: total: 0 ns\n",
      "Wall time: 0 ns\n"
     ]
    },
    {
     "data": {
      "text/plain": [
       "<Axes: >"
      ]
     },
     "execution_count": 13,
     "metadata": {},
     "output_type": "execute_result"
    },
    {
     "data": {
      "image/png": "[encoded data removed]",
      "text/plain": [
       "<Figure size 640x480 with 1 Axes>"
      ]
     },
     "metadata": {},
     "output_type": "display_data"
    }
   ],
   "source": [
    "%time\n",
    "query = '''\n",
    "select o.customer_id,\n",
    "timestamp(o.order_purchase_timestamp),\n",
    "avg(p.payment_value) \n",
    "over(partition by o.customer_id order by o.order_purchase_timestamp rows between 2 preceding and current row) as running_bill\n",
    "from orders o\n",
    "inner join \n",
    "payments p\n",
    "on \n",
    "o.order_id = p.order_id;\n",
    "'''\n",
    "cur.execute(query)\n",
    "question11 = pd.DataFrame(cur.fetchall(), columns = ['customer_id', 'purchase_timestamp', 'running_bill'])\n",
    "question11['running_bill'].hist(bins = range(0, 2000, 50))"
   ]
  },
  {
   "cell_type": "markdown",
   "id": "2268dce9-9477-4103-aaaa-a1fc60fd5434",
   "metadata": {},
   "source": [
    "### 2. Calculate the cumulative sales per month for each year."
   ]
  },
  {
   "cell_type": "code",
   "execution_count": 14,
   "id": "52ec4b9a-174b-4cad-ae09-8f670f38a3ad",
   "metadata": {},
   "outputs": [
    {
     "data": {
      "text/html": [
       "<div>\n",
       "<style scoped>\n",
       "    .dataframe tbody tr th:only-of-type {\n",
       "        vertical-align: middle;\n",
       "    }\n",
       "\n",
       "    .dataframe tbody tr th {\n",
       "        vertical-align: top;\n",
       "    }\n",
       "\n",
       "    .dataframe thead th {\n",
       "        text-align: right;\n",
       "    }\n",
       "</style>\n",
       "<table border=\"1\" class=\"dataframe\">\n",
       "  <thead>\n",
       "    <tr style=\"text-align: right;\">\n",
       "      <th></th>\n",
       "      <th>0</th>\n",
       "      <th>1</th>\n",
       "      <th>2</th>\n",
       "      <th>3</th>\n",
       "    </tr>\n",
       "  </thead>\n",
       "  <tbody>\n",
       "    <tr>\n",
       "      <th>0</th>\n",
       "      <td>2016</td>\n",
       "      <td>9</td>\n",
       "      <td>757.0</td>\n",
       "      <td>757.0</td>\n",
       "    </tr>\n",
       "    <tr>\n",
       "      <th>1</th>\n",
       "      <td>2016</td>\n",
       "      <td>10</td>\n",
       "      <td>177271.0</td>\n",
       "      <td>178028.0</td>\n",
       "    </tr>\n",
       "    <tr>\n",
       "      <th>2</th>\n",
       "      <td>2016</td>\n",
       "      <td>12</td>\n",
       "      <td>59.0</td>\n",
       "      <td>178087.0</td>\n",
       "    </tr>\n",
       "    <tr>\n",
       "      <th>3</th>\n",
       "      <td>2017</td>\n",
       "      <td>1</td>\n",
       "      <td>415464.0</td>\n",
       "      <td>593551.0</td>\n",
       "    </tr>\n",
       "    <tr>\n",
       "      <th>4</th>\n",
       "      <td>2017</td>\n",
       "      <td>2</td>\n",
       "      <td>875724.0</td>\n",
       "      <td>1469275.0</td>\n",
       "    </tr>\n",
       "    <tr>\n",
       "      <th>5</th>\n",
       "      <td>2017</td>\n",
       "      <td>3</td>\n",
       "      <td>1349591.0</td>\n",
       "      <td>2818866.0</td>\n",
       "    </tr>\n",
       "    <tr>\n",
       "      <th>6</th>\n",
       "      <td>2017</td>\n",
       "      <td>4</td>\n",
       "      <td>1253364.0</td>\n",
       "      <td>4072230.0</td>\n",
       "    </tr>\n",
       "    <tr>\n",
       "      <th>7</th>\n",
       "      <td>2017</td>\n",
       "      <td>5</td>\n",
       "      <td>1778756.0</td>\n",
       "      <td>5850986.0</td>\n",
       "    </tr>\n",
       "    <tr>\n",
       "      <th>8</th>\n",
       "      <td>2017</td>\n",
       "      <td>6</td>\n",
       "      <td>1533829.0</td>\n",
       "      <td>7384815.0</td>\n",
       "    </tr>\n",
       "    <tr>\n",
       "      <th>9</th>\n",
       "      <td>2017</td>\n",
       "      <td>7</td>\n",
       "      <td>1777149.0</td>\n",
       "      <td>9161964.0</td>\n",
       "    </tr>\n",
       "    <tr>\n",
       "      <th>10</th>\n",
       "      <td>2017</td>\n",
       "      <td>8</td>\n",
       "      <td>2023189.0</td>\n",
       "      <td>11185153.0</td>\n",
       "    </tr>\n",
       "    <tr>\n",
       "      <th>11</th>\n",
       "      <td>2017</td>\n",
       "      <td>9</td>\n",
       "      <td>2183287.0</td>\n",
       "      <td>13368440.0</td>\n",
       "    </tr>\n",
       "    <tr>\n",
       "      <th>12</th>\n",
       "      <td>2017</td>\n",
       "      <td>10</td>\n",
       "      <td>2339034.0</td>\n",
       "      <td>15707474.0</td>\n",
       "    </tr>\n",
       "    <tr>\n",
       "      <th>13</th>\n",
       "      <td>2017</td>\n",
       "      <td>11</td>\n",
       "      <td>3584648.0</td>\n",
       "      <td>19292122.0</td>\n",
       "    </tr>\n",
       "    <tr>\n",
       "      <th>14</th>\n",
       "      <td>2017</td>\n",
       "      <td>12</td>\n",
       "      <td>2635204.0</td>\n",
       "      <td>21927326.0</td>\n",
       "    </tr>\n",
       "    <tr>\n",
       "      <th>15</th>\n",
       "      <td>2018</td>\n",
       "      <td>1</td>\n",
       "      <td>3345013.0</td>\n",
       "      <td>25272339.0</td>\n",
       "    </tr>\n",
       "    <tr>\n",
       "      <th>16</th>\n",
       "      <td>2018</td>\n",
       "      <td>2</td>\n",
       "      <td>2977390.0</td>\n",
       "      <td>28249729.0</td>\n",
       "    </tr>\n",
       "    <tr>\n",
       "      <th>17</th>\n",
       "      <td>2018</td>\n",
       "      <td>3</td>\n",
       "      <td>3478956.0</td>\n",
       "      <td>31728685.0</td>\n",
       "    </tr>\n",
       "    <tr>\n",
       "      <th>18</th>\n",
       "      <td>2018</td>\n",
       "      <td>4</td>\n",
       "      <td>3482356.0</td>\n",
       "      <td>35211041.0</td>\n",
       "    </tr>\n",
       "    <tr>\n",
       "      <th>19</th>\n",
       "      <td>2018</td>\n",
       "      <td>5</td>\n",
       "      <td>3461946.0</td>\n",
       "      <td>38672987.0</td>\n",
       "    </tr>\n",
       "    <tr>\n",
       "      <th>20</th>\n",
       "      <td>2018</td>\n",
       "      <td>6</td>\n",
       "      <td>3071642.0</td>\n",
       "      <td>41744629.0</td>\n",
       "    </tr>\n",
       "    <tr>\n",
       "      <th>21</th>\n",
       "      <td>2018</td>\n",
       "      <td>7</td>\n",
       "      <td>3199622.0</td>\n",
       "      <td>44944251.0</td>\n",
       "    </tr>\n",
       "    <tr>\n",
       "      <th>22</th>\n",
       "      <td>2018</td>\n",
       "      <td>8</td>\n",
       "      <td>3067276.0</td>\n",
       "      <td>48011527.0</td>\n",
       "    </tr>\n",
       "    <tr>\n",
       "      <th>23</th>\n",
       "      <td>2018</td>\n",
       "      <td>9</td>\n",
       "      <td>13319.0</td>\n",
       "      <td>48024846.0</td>\n",
       "    </tr>\n",
       "    <tr>\n",
       "      <th>24</th>\n",
       "      <td>2018</td>\n",
       "      <td>10</td>\n",
       "      <td>1769.0</td>\n",
       "      <td>48026615.0</td>\n",
       "    </tr>\n",
       "  </tbody>\n",
       "</table>\n",
       "</div>"
      ],
      "text/plain": [
       "       0   1          2           3\n",
       "0   2016   9      757.0       757.0\n",
       "1   2016  10   177271.0    178028.0\n",
       "2   2016  12       59.0    178087.0\n",
       "3   2017   1   415464.0    593551.0\n",
       "4   2017   2   875724.0   1469275.0\n",
       "5   2017   3  1349591.0   2818866.0\n",
       "6   2017   4  1253364.0   4072230.0\n",
       "7   2017   5  1778756.0   5850986.0\n",
       "8   2017   6  1533829.0   7384815.0\n",
       "9   2017   7  1777149.0   9161964.0\n",
       "10  2017   8  2023189.0  11185153.0\n",
       "11  2017   9  2183287.0  13368440.0\n",
       "12  2017  10  2339034.0  15707474.0\n",
       "13  2017  11  3584648.0  19292122.0\n",
       "14  2017  12  2635204.0  21927326.0\n",
       "15  2018   1  3345013.0  25272339.0\n",
       "16  2018   2  2977390.0  28249729.0\n",
       "17  2018   3  3478956.0  31728685.0\n",
       "18  2018   4  3482356.0  35211041.0\n",
       "19  2018   5  3461946.0  38672987.0\n",
       "20  2018   6  3071642.0  41744629.0\n",
       "21  2018   7  3199622.0  44944251.0\n",
       "22  2018   8  3067276.0  48011527.0\n",
       "23  2018   9    13319.0  48024846.0\n",
       "24  2018  10     1769.0  48026615.0"
      ]
     },
     "execution_count": 14,
     "metadata": {},
     "output_type": "execute_result"
    }
   ],
   "source": [
    "query = '''\n",
    "select year, month, total_value as yearly_value, \n",
    "sum(total_value) over(order by year, month) as cumulative_order_value\n",
    "from\n",
    "(select year(date(o.order_purchase_timestamp)) as 'year',\n",
    "month(date(o.order_purchase_timestamp)) as 'month',\n",
    "round(sum(p.payment_value)) as total_value\n",
    "from \n",
    "ecommerce.orders o\n",
    "inner join\n",
    "ecommerce.payments p\n",
    "on\n",
    "o.order_id = p.order_id\n",
    "group by year(date(o.order_purchase_timestamp)), month(date(o.order_purchase_timestamp))\n",
    "order by year(date(o.order_purchase_timestamp)), month(date(o.order_purchase_timestamp))) as derived_table;\n",
    "'''\n",
    "cur.execute(query)\n",
    "question12 = pd.DataFrame(cur.fetchall())\n",
    "question12"
   ]
  },
  {
   "cell_type": "markdown",
   "id": "b521c2a0-ad40-4e4b-877b-c63dab2ae509",
   "metadata": {},
   "source": [
    "### 3. Calculate the year-over-year growth rate of total sales."
   ]
  },
  {
   "cell_type": "code",
   "execution_count": 16,
   "id": "c5e4dcda-e19d-4032-852e-4c2e60e5d901",
   "metadata": {},
   "outputs": [
    {
     "data": {
      "text/html": [
       "<div>\n",
       "<style scoped>\n",
       "    .dataframe tbody tr th:only-of-type {\n",
       "        vertical-align: middle;\n",
       "    }\n",
       "\n",
       "    .dataframe tbody tr th {\n",
       "        vertical-align: top;\n",
       "    }\n",
       "\n",
       "    .dataframe thead th {\n",
       "        text-align: right;\n",
       "    }\n",
       "</style>\n",
       "<table border=\"1\" class=\"dataframe\">\n",
       "  <thead>\n",
       "    <tr style=\"text-align: right;\">\n",
       "      <th></th>\n",
       "      <th>year</th>\n",
       "      <th>Yearly_cummulative_sum</th>\n",
       "      <th>percentage_increase</th>\n",
       "    </tr>\n",
       "  </thead>\n",
       "  <tbody>\n",
       "    <tr>\n",
       "      <th>0</th>\n",
       "      <td>2016</td>\n",
       "      <td>178087.0</td>\n",
       "      <td>0.00</td>\n",
       "    </tr>\n",
       "    <tr>\n",
       "      <th>1</th>\n",
       "      <td>2017</td>\n",
       "      <td>21749240.0</td>\n",
       "      <td>12212.71</td>\n",
       "    </tr>\n",
       "    <tr>\n",
       "      <th>2</th>\n",
       "      <td>2018</td>\n",
       "      <td>26099289.0</td>\n",
       "      <td>120.00</td>\n",
       "    </tr>\n",
       "  </tbody>\n",
       "</table>\n",
       "</div>"
      ],
      "text/plain": [
       "   year  Yearly_cummulative_sum  percentage_increase\n",
       "0  2016                178087.0                 0.00\n",
       "1  2017              21749240.0             12212.71\n",
       "2  2018              26099289.0               120.00"
      ]
     },
     "execution_count": 16,
     "metadata": {},
     "output_type": "execute_result"
    }
   ],
   "source": [
    "query = '''\n",
    "select year, total_value, coalesce(round((total_value/ lag_total)*100, 2),0)\n",
    "from\n",
    "(select year(date(o.order_purchase_timestamp)) as 'year',\n",
    "round(sum(p.payment_value)) as total_value,\n",
    "coalesce(lag(round(sum(p.payment_value))) over(order by year(date(o.order_purchase_timestamp))), 0) as lag_total\n",
    "from \n",
    "ecommerce.orders o\n",
    "inner join\n",
    "ecommerce.payments p\n",
    "on\n",
    "o.order_id = p.order_id\n",
    "group by year(date(o.order_purchase_timestamp)) \n",
    "order by year(date(o.order_purchase_timestamp))) as derived_table;\n",
    "'''\n",
    "cur.execute(query)\n",
    "question13 = pd.DataFrame(cur.fetchall(), columns=['year', 'Yearly_cummulative_sum', 'percentage_increase'])\n",
    "question13"
   ]
  },
  {
   "cell_type": "markdown",
   "id": "aa6b3d58-fa38-495c-af86-24aa8fa4e087",
   "metadata": {},
   "source": [
    "### 4. Calculate the retention rate of customers, defined as the percentage of customers who make another purchase within 6 months of their first purchase."
   ]
  },
  {
   "cell_type": "code",
   "execution_count": 18,
   "id": "c9cb9c63-9e62-4f51-b59e-0ab3777b3fd2",
   "metadata": {},
   "outputs": [
    {
     "data": {
      "text/plain": [
       "[(None,)]"
      ]
     },
     "execution_count": 18,
     "metadata": {},
     "output_type": "execute_result"
    }
   ],
   "source": [
    "query = \"\"\"with a as (select customers.customer_id,\n",
    "min(orders.order_purchase_timestamp) first_order\n",
    "from customers join orders\n",
    "on customers.customer_id = orders.customer_id\n",
    "group by customers.customer_id),\n",
    "\n",
    "b as (select a.customer_id, count(distinct orders.order_purchase_timestamp) next_order\n",
    "from a join orders\n",
    "on orders.customer_id = a.customer_id\n",
    "and orders.order_purchase_timestamp > first_order\n",
    "and orders.order_purchase_timestamp > \n",
    "date_add(first_order, interval 6 month)\n",
    "group by a.customer_id) \n",
    "\n",
    "select 100 * (count( distinct a.customer_id)/ count(distinct b.customer_id)) \n",
    "from a left join b \n",
    "on a.customer_id = b.customer_id ;\"\"\"\n",
    "\n",
    "cur.execute(query)\n",
    "question14 = cur.fetchall()\n",
    "question14"
   ]
  },
  {
   "cell_type": "markdown",
   "id": "94f261e1-a4de-4371-a4b4-93fa7b93f060",
   "metadata": {},
   "source": [
    "### 5. Identify the top 3 customers who spent the most money in each year."
   ]
  },
  {
   "cell_type": "code",
   "execution_count": 27,
   "id": "114f9daf-95c3-4ef1-8848-509e961a9a4e",
   "metadata": {},
   "outputs": [
    {
     "ename": "AttributeError",
     "evalue": "Rectangle.set() got an unexpected keyword argument 'annotate'",
     "output_type": "error",
     "traceback": [
      "\u001b[1;31m---------------------------------------------------------------------------\u001b[0m",
      "\u001b[1;31mAttributeError\u001b[0m                            Traceback (most recent call last)",
      "Cell \u001b[1;32mIn[27], line 20\u001b[0m\n\u001b[0;32m     18\u001b[0m df \u001b[38;5;241m=\u001b[39m pd\u001b[38;5;241m.\u001b[39mDataFrame(data, columns \u001b[38;5;241m=\u001b[39m [\u001b[38;5;124m\"\u001b[39m\u001b[38;5;124myears\u001b[39m\u001b[38;5;124m\"\u001b[39m,\u001b[38;5;124m\"\u001b[39m\u001b[38;5;124mid\u001b[39m\u001b[38;5;124m\"\u001b[39m,\u001b[38;5;124m\"\u001b[39m\u001b[38;5;124mpayment\u001b[39m\u001b[38;5;124m\"\u001b[39m,\u001b[38;5;124m\"\u001b[39m\u001b[38;5;124mrank\u001b[39m\u001b[38;5;124m\"\u001b[39m])\n\u001b[0;32m     19\u001b[0m plt\u001b[38;5;241m.\u001b[39mfigure(figsize\u001b[38;5;241m=\u001b[39m[\u001b[38;5;241m4\u001b[39m,\u001b[38;5;241m3\u001b[39m])\n\u001b[1;32m---> 20\u001b[0m ax \u001b[38;5;241m=\u001b[39m sns\u001b[38;5;241m.\u001b[39mbarplot(x \u001b[38;5;241m=\u001b[39m \u001b[38;5;124m\"\u001b[39m\u001b[38;5;124mid\u001b[39m\u001b[38;5;124m\"\u001b[39m, y \u001b[38;5;241m=\u001b[39m \u001b[38;5;124m\"\u001b[39m\u001b[38;5;124mpayment\u001b[39m\u001b[38;5;124m\"\u001b[39m, data \u001b[38;5;241m=\u001b[39m df, hue \u001b[38;5;241m=\u001b[39m \u001b[38;5;124m\"\u001b[39m\u001b[38;5;124myears\u001b[39m\u001b[38;5;124m\"\u001b[39m, annotate \u001b[38;5;241m=\u001b[39m \u001b[38;5;28;01mTrue\u001b[39;00m)\n\u001b[0;32m     21\u001b[0m plt\u001b[38;5;241m.\u001b[39mxticks(rotation \u001b[38;5;241m=\u001b[39m \u001b[38;5;241m90\u001b[39m, fontsize\u001b[38;5;241m=\u001b[39m\u001b[38;5;241m6\u001b[39m)\n\u001b[0;32m     22\u001b[0m plt\u001b[38;5;241m.\u001b[39mshow()\n",
      "File \u001b[1;32m~\\anaconda3\\envs\\data_science\\Lib\\site-packages\\seaborn\\categorical.py:2380\u001b[0m, in \u001b[0;36mbarplot\u001b[1;34m(data, x, y, hue, order, hue_order, estimator, errorbar, n_boot, seed, units, weights, orient, color, palette, saturation, fill, hue_norm, width, dodge, gap, log_scale, native_scale, formatter, legend, capsize, err_kws, ci, errcolor, errwidth, ax, **kwargs)\u001b[0m\n\u001b[0;32m   2377\u001b[0m \u001b[38;5;66;03m# Deprecations to remove in v0.15.0.\u001b[39;00m\n\u001b[0;32m   2378\u001b[0m err_kws, capsize \u001b[38;5;241m=\u001b[39m p\u001b[38;5;241m.\u001b[39m_err_kws_backcompat(err_kws, errcolor, errwidth, capsize)\n\u001b[1;32m-> 2380\u001b[0m p\u001b[38;5;241m.\u001b[39mplot_bars(\n\u001b[0;32m   2381\u001b[0m     aggregator\u001b[38;5;241m=\u001b[39maggregator,\n\u001b[0;32m   2382\u001b[0m     dodge\u001b[38;5;241m=\u001b[39mdodge,\n\u001b[0;32m   2383\u001b[0m     width\u001b[38;5;241m=\u001b[39mwidth,\n\u001b[0;32m   2384\u001b[0m     gap\u001b[38;5;241m=\u001b[39mgap,\n\u001b[0;32m   2385\u001b[0m     color\u001b[38;5;241m=\u001b[39mcolor,\n\u001b[0;32m   2386\u001b[0m     fill\u001b[38;5;241m=\u001b[39mfill,\n\u001b[0;32m   2387\u001b[0m     capsize\u001b[38;5;241m=\u001b[39mcapsize,\n\u001b[0;32m   2388\u001b[0m     err_kws\u001b[38;5;241m=\u001b[39merr_kws,\n\u001b[0;32m   2389\u001b[0m     plot_kws\u001b[38;5;241m=\u001b[39mkwargs,\n\u001b[0;32m   2390\u001b[0m )\n\u001b[0;32m   2392\u001b[0m p\u001b[38;5;241m.\u001b[39m_add_axis_labels(ax)\n\u001b[0;32m   2393\u001b[0m p\u001b[38;5;241m.\u001b[39m_adjust_cat_axis(ax, axis\u001b[38;5;241m=\u001b[39mp\u001b[38;5;241m.\u001b[39morient)\n",
      "File \u001b[1;32m~\\anaconda3\\envs\\data_science\\Lib\\site-packages\\seaborn\\categorical.py:1315\u001b[0m, in \u001b[0;36m_CategoricalPlotter.plot_bars\u001b[1;34m(self, aggregator, dodge, gap, width, fill, color, capsize, err_kws, plot_kws)\u001b[0m\n\u001b[0;32m   1312\u001b[0m \u001b[38;5;28;01melse\u001b[39;00m:\n\u001b[0;32m   1313\u001b[0m     kws\u001b[38;5;241m.\u001b[39mupdate(color\u001b[38;5;241m=\u001b[39mmain_color, edgecolor\u001b[38;5;241m=\u001b[39mmain_color, facecolor\u001b[38;5;241m=\u001b[39m\u001b[38;5;124m\"\u001b[39m\u001b[38;5;124mnone\u001b[39m\u001b[38;5;124m\"\u001b[39m)\n\u001b[1;32m-> 1315\u001b[0m bar_func(\u001b[38;5;241m*\u001b[39m\u001b[38;5;241m*\u001b[39m{\u001b[38;5;241m*\u001b[39m\u001b[38;5;241m*\u001b[39mkws, \u001b[38;5;241m*\u001b[39m\u001b[38;5;241m*\u001b[39mplot_kws})\n\u001b[0;32m   1317\u001b[0m \u001b[38;5;28;01mif\u001b[39;00m aggregator\u001b[38;5;241m.\u001b[39merror_method \u001b[38;5;129;01mis\u001b[39;00m \u001b[38;5;129;01mnot\u001b[39;00m \u001b[38;5;28;01mNone\u001b[39;00m:\n\u001b[0;32m   1318\u001b[0m     \u001b[38;5;28mself\u001b[39m\u001b[38;5;241m.\u001b[39mplot_errorbars(\n\u001b[0;32m   1319\u001b[0m         ax, agg_data, capsize,\n\u001b[0;32m   1320\u001b[0m         {\u001b[38;5;124m\"\u001b[39m\u001b[38;5;124mcolor\u001b[39m\u001b[38;5;124m\"\u001b[39m: \u001b[38;5;124m\"\u001b[39m\u001b[38;5;124m.26\u001b[39m\u001b[38;5;124m\"\u001b[39m \u001b[38;5;28;01mif\u001b[39;00m fill \u001b[38;5;28;01melse\u001b[39;00m main_color, \u001b[38;5;241m*\u001b[39m\u001b[38;5;241m*\u001b[39merr_kws}\n\u001b[0;32m   1321\u001b[0m     )\n",
      "File \u001b[1;32m~\\anaconda3\\envs\\data_science\\Lib\\site-packages\\matplotlib\\__init__.py:1465\u001b[0m, in \u001b[0;36m_preprocess_data.<locals>.inner\u001b[1;34m(ax, data, *args, **kwargs)\u001b[0m\n\u001b[0;32m   1462\u001b[0m \u001b[38;5;129m@functools\u001b[39m\u001b[38;5;241m.\u001b[39mwraps(func)\n\u001b[0;32m   1463\u001b[0m \u001b[38;5;28;01mdef\u001b[39;00m \u001b[38;5;21minner\u001b[39m(ax, \u001b[38;5;241m*\u001b[39margs, data\u001b[38;5;241m=\u001b[39m\u001b[38;5;28;01mNone\u001b[39;00m, \u001b[38;5;241m*\u001b[39m\u001b[38;5;241m*\u001b[39mkwargs):\n\u001b[0;32m   1464\u001b[0m     \u001b[38;5;28;01mif\u001b[39;00m data \u001b[38;5;129;01mis\u001b[39;00m \u001b[38;5;28;01mNone\u001b[39;00m:\n\u001b[1;32m-> 1465\u001b[0m         \u001b[38;5;28;01mreturn\u001b[39;00m func(ax, \u001b[38;5;241m*\u001b[39m\u001b[38;5;28mmap\u001b[39m(sanitize_sequence, args), \u001b[38;5;241m*\u001b[39m\u001b[38;5;241m*\u001b[39mkwargs)\n\u001b[0;32m   1467\u001b[0m     bound \u001b[38;5;241m=\u001b[39m new_sig\u001b[38;5;241m.\u001b[39mbind(ax, \u001b[38;5;241m*\u001b[39margs, \u001b[38;5;241m*\u001b[39m\u001b[38;5;241m*\u001b[39mkwargs)\n\u001b[0;32m   1468\u001b[0m     auto_label \u001b[38;5;241m=\u001b[39m (bound\u001b[38;5;241m.\u001b[39marguments\u001b[38;5;241m.\u001b[39mget(label_namer)\n\u001b[0;32m   1469\u001b[0m                   \u001b[38;5;129;01mor\u001b[39;00m bound\u001b[38;5;241m.\u001b[39mkwargs\u001b[38;5;241m.\u001b[39mget(label_namer))\n",
      "File \u001b[1;32m~\\anaconda3\\envs\\data_science\\Lib\\site-packages\\matplotlib\\axes\\_axes.py:2532\u001b[0m, in \u001b[0;36mAxes.bar\u001b[1;34m(self, x, height, width, bottom, align, **kwargs)\u001b[0m\n\u001b[0;32m   2523\u001b[0m \u001b[38;5;28;01mfor\u001b[39;00m l, b, w, h, c, e, lw, htch, lbl \u001b[38;5;129;01min\u001b[39;00m args:\n\u001b[0;32m   2524\u001b[0m     r \u001b[38;5;241m=\u001b[39m mpatches\u001b[38;5;241m.\u001b[39mRectangle(\n\u001b[0;32m   2525\u001b[0m         xy\u001b[38;5;241m=\u001b[39m(l, b), width\u001b[38;5;241m=\u001b[39mw, height\u001b[38;5;241m=\u001b[39mh,\n\u001b[0;32m   2526\u001b[0m         facecolor\u001b[38;5;241m=\u001b[39mc,\n\u001b[1;32m   (...)\u001b[0m\n\u001b[0;32m   2530\u001b[0m         hatch\u001b[38;5;241m=\u001b[39mhtch,\n\u001b[0;32m   2531\u001b[0m         )\n\u001b[1;32m-> 2532\u001b[0m     r\u001b[38;5;241m.\u001b[39m_internal_update(kwargs)\n\u001b[0;32m   2533\u001b[0m     r\u001b[38;5;241m.\u001b[39mget_path()\u001b[38;5;241m.\u001b[39m_interpolation_steps \u001b[38;5;241m=\u001b[39m \u001b[38;5;241m100\u001b[39m\n\u001b[0;32m   2534\u001b[0m     \u001b[38;5;28;01mif\u001b[39;00m orientation \u001b[38;5;241m==\u001b[39m \u001b[38;5;124m'\u001b[39m\u001b[38;5;124mvertical\u001b[39m\u001b[38;5;124m'\u001b[39m:\n",
      "File \u001b[1;32m~\\anaconda3\\envs\\data_science\\Lib\\site-packages\\matplotlib\\artist.py:1219\u001b[0m, in \u001b[0;36mArtist._internal_update\u001b[1;34m(self, kwargs)\u001b[0m\n\u001b[0;32m   1212\u001b[0m \u001b[38;5;28;01mdef\u001b[39;00m \u001b[38;5;21m_internal_update\u001b[39m(\u001b[38;5;28mself\u001b[39m, kwargs):\n\u001b[0;32m   1213\u001b[0m \u001b[38;5;250m    \u001b[39m\u001b[38;5;124;03m\"\"\"\u001b[39;00m\n\u001b[0;32m   1214\u001b[0m \u001b[38;5;124;03m    Update artist properties without prenormalizing them, but generating\u001b[39;00m\n\u001b[0;32m   1215\u001b[0m \u001b[38;5;124;03m    errors as if calling `set`.\u001b[39;00m\n\u001b[0;32m   1216\u001b[0m \n\u001b[0;32m   1217\u001b[0m \u001b[38;5;124;03m    The lack of prenormalization is to maintain backcompatibility.\u001b[39;00m\n\u001b[0;32m   1218\u001b[0m \u001b[38;5;124;03m    \"\"\"\u001b[39;00m\n\u001b[1;32m-> 1219\u001b[0m     \u001b[38;5;28;01mreturn\u001b[39;00m \u001b[38;5;28mself\u001b[39m\u001b[38;5;241m.\u001b[39m_update_props(\n\u001b[0;32m   1220\u001b[0m         kwargs, \u001b[38;5;124m\"\u001b[39m\u001b[38;5;132;01m{cls.__name__}\u001b[39;00m\u001b[38;5;124m.set() got an unexpected keyword argument \u001b[39m\u001b[38;5;124m\"\u001b[39m\n\u001b[0;32m   1221\u001b[0m         \u001b[38;5;124m\"\u001b[39m\u001b[38;5;132;01m{prop_name!r}\u001b[39;00m\u001b[38;5;124m\"\u001b[39m)\n",
      "File \u001b[1;32m~\\anaconda3\\envs\\data_science\\Lib\\site-packages\\matplotlib\\artist.py:1193\u001b[0m, in \u001b[0;36mArtist._update_props\u001b[1;34m(self, props, errfmt)\u001b[0m\n\u001b[0;32m   1191\u001b[0m             func \u001b[38;5;241m=\u001b[39m \u001b[38;5;28mgetattr\u001b[39m(\u001b[38;5;28mself\u001b[39m, \u001b[38;5;124mf\u001b[39m\u001b[38;5;124m\"\u001b[39m\u001b[38;5;124mset_\u001b[39m\u001b[38;5;132;01m{\u001b[39;00mk\u001b[38;5;132;01m}\u001b[39;00m\u001b[38;5;124m\"\u001b[39m, \u001b[38;5;28;01mNone\u001b[39;00m)\n\u001b[0;32m   1192\u001b[0m             \u001b[38;5;28;01mif\u001b[39;00m \u001b[38;5;129;01mnot\u001b[39;00m \u001b[38;5;28mcallable\u001b[39m(func):\n\u001b[1;32m-> 1193\u001b[0m                 \u001b[38;5;28;01mraise\u001b[39;00m \u001b[38;5;167;01mAttributeError\u001b[39;00m(\n\u001b[0;32m   1194\u001b[0m                     errfmt\u001b[38;5;241m.\u001b[39mformat(\u001b[38;5;28mcls\u001b[39m\u001b[38;5;241m=\u001b[39m\u001b[38;5;28mtype\u001b[39m(\u001b[38;5;28mself\u001b[39m), prop_name\u001b[38;5;241m=\u001b[39mk))\n\u001b[0;32m   1195\u001b[0m             ret\u001b[38;5;241m.\u001b[39mappend(func(v))\n\u001b[0;32m   1196\u001b[0m \u001b[38;5;28;01mif\u001b[39;00m ret:\n",
      "\u001b[1;31mAttributeError\u001b[0m: Rectangle.set() got an unexpected keyword argument 'annotate'"
     ]
    },
    {
     "data": {
      "image/png": "[encoded data removed]",
      "text/plain": [
       "<Figure size 400x300 with 1 Axes>"
      ]
     },
     "metadata": {},
     "output_type": "display_data"
    }
   ],
   "source": [
    "query = \"\"\"\n",
    "select years, customer_id, payment, d_rank\n",
    "from\n",
    "(select year(orders.order_purchase_timestamp) years,\n",
    "orders.customer_id,\n",
    "sum(payments.payment_value) payment,\n",
    "dense_rank() over(partition by year(orders.order_purchase_timestamp)\n",
    "order by sum(payments.payment_value) desc) d_rank\n",
    "from orders join payments \n",
    "on payments.order_id = orders.order_id\n",
    "group by year(orders.order_purchase_timestamp),\n",
    "orders.customer_id) as a\n",
    "where d_rank <= 3;\n",
    "\"\"\"\n",
    "\n",
    "cur.execute(query)\n",
    "data = cur.fetchall()\n",
    "df = pd.DataFrame(data, columns = [\"years\",\"id\",\"payment\",\"rank\"])\n",
    "plt.figure(figsize=[4,3])\n",
    "ax = sns.barplot(x = \"id\", y = \"payment\", data = df, hue = \"years\", annotate = True)\n",
    "plt.xticks(rotation = 90, fontsize=6)\n",
    "plt.show()"
   ]
  },
  {
   "cell_type": "code",
   "execution_count": 26,
   "id": "a52e08a0-38a6-49c3-b6c0-e3981182fce8",
   "metadata": {},
   "outputs": [
    {
     "data": {
      "text/plain": [
       "matplotlib.container.BarContainer"
      ]
     },
     "execution_count": 26,
     "metadata": {},
     "output_type": "execute_result"
    }
   ],
   "source": [
    "type(ax.containers[0])"
   ]
  },
  {
   "cell_type": "code",
   "execution_count": null,
   "id": "86788d83-b7ba-49f2-a8c6-94e2b4c07bd2",
   "metadata": {},
   "outputs": [],
   "source": []
  }
 ],
 "metadata": {
  "kernelspec": {
   "display_name": "Python 3 (ipykernel)",
   "language": "python",
   "name": "python3"
  },
  "language_info": {
   "codemirror_mode": {
    "name": "ipython",
    "version": 3
   },
   "file_extension": ".py",
   "mimetype": "text/x-python",
   "name": "python",
   "nbconvert_exporter": "python",
   "pygments_lexer": "ipython3",
   "version": "3.12.4"
  }
 },
 "nbformat": 4,
 "nbformat_minor": 5
}
